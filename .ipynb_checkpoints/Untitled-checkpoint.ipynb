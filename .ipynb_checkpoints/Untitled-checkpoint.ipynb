{
 "cells": [
  {
   "cell_type": "code",
   "execution_count": 27,
   "id": "e4758940-5c95-4d02-9e30-d6a3a8149173",
   "metadata": {},
   "outputs": [],
   "source": [
    "import pandas as pd\n",
    "\n",
    "df=pd.read_csv(\"../all_contigs_vs_nt.parsed.tophit.txt\", sep=\"\\t\")"
   ]
  },
  {
   "cell_type": "code",
   "execution_count": 68,
   "id": "54771170-699a-4e51-9f1d-d9fd44edb2fa",
   "metadata": {},
   "outputs": [
    {
     "data": {
      "text/plain": [
       "773"
      ]
     },
     "execution_count": 68,
     "metadata": {},
     "output_type": "execute_result"
    }
   ],
   "source": [
    "import re\n",
    "\n",
    "def func(x):\n",
    "    flag = True\n",
    "    for _, row in x.iterrows():\n",
    "        if row.pident < 98:\n",
    "            flag = False\n",
    "            break\n",
    "    return flag\n",
    "\n",
    "cnt = 0\n",
    "ss = []\n",
    "for ind, ret in df[df.family==\"Culicidae\"].groupby(\"lib_id\").apply(func).items():\n",
    "    if not ret:\n",
    "        cnt += 1\n",
    "        ss.append(ind)\n",
    "cnt"
   ]
  },
  {
   "cell_type": "code",
   "execution_count": 64,
   "id": "f359761c-a6c7-4fe7-a150-2a309d08a532",
   "metadata": {},
   "outputs": [
    {
     "data": {
      "text/html": [
       "<div>\n",
       "<style scoped>\n",
       "    .dataframe tbody tr th:only-of-type {\n",
       "        vertical-align: middle;\n",
       "    }\n",
       "\n",
       "    .dataframe tbody tr th {\n",
       "        vertical-align: top;\n",
       "    }\n",
       "\n",
       "    .dataframe thead th {\n",
       "        text-align: right;\n",
       "    }\n",
       "</style>\n",
       "<table border=\"1\" class=\"dataframe\">\n",
       "  <thead>\n",
       "    <tr style=\"text-align: right;\">\n",
       "      <th></th>\n",
       "      <th>lib_id</th>\n",
       "      <th>contig</th>\n",
       "      <th>hit</th>\n",
       "      <th>pident</th>\n",
       "      <th>alnlen</th>\n",
       "      <th>evalue</th>\n",
       "      <th>bitscore</th>\n",
       "      <th>phylum</th>\n",
       "      <th>class</th>\n",
       "      <th>order</th>\n",
       "      <th>family</th>\n",
       "      <th>genus</th>\n",
       "      <th>species</th>\n",
       "    </tr>\n",
       "  </thead>\n",
       "  <tbody>\n",
       "    <tr>\n",
       "      <th>0</th>\n",
       "      <td>19BJAW1844</td>\n",
       "      <td>k141_0_flag1_multi228.0000_len512</td>\n",
       "      <td>KX840650.1</td>\n",
       "      <td>99.609</td>\n",
       "      <td>512</td>\n",
       "      <td>0.0</td>\n",
       "      <td>935</td>\n",
       "      <td>Arthropoda</td>\n",
       "      <td>Insecta</td>\n",
       "      <td>Diptera</td>\n",
       "      <td>Culicidae</td>\n",
       "      <td>Anopheles</td>\n",
       "      <td>Anopheles pullus</td>\n",
       "    </tr>\n",
       "    <tr>\n",
       "      <th>1</th>\n",
       "      <td>19BJAW1844</td>\n",
       "      <td>k141_1_flag0_multi577.1388_len1330</td>\n",
       "      <td>MG816556.1</td>\n",
       "      <td>96.006</td>\n",
       "      <td>1252</td>\n",
       "      <td>0.0</td>\n",
       "      <td>2036</td>\n",
       "      <td>Arthropoda</td>\n",
       "      <td>Insecta</td>\n",
       "      <td>Diptera</td>\n",
       "      <td>Culicidae</td>\n",
       "      <td>Anopheles</td>\n",
       "      <td>Anopheles sinensis</td>\n",
       "    </tr>\n",
       "    <tr>\n",
       "      <th>2</th>\n",
       "      <td>19BJAW1844</td>\n",
       "      <td>k141_2_flag0_multi493.4021_len529</td>\n",
       "      <td>MG816556.1</td>\n",
       "      <td>98.201</td>\n",
       "      <td>389</td>\n",
       "      <td>0.0</td>\n",
       "      <td>680</td>\n",
       "      <td>Arthropoda</td>\n",
       "      <td>Insecta</td>\n",
       "      <td>Diptera</td>\n",
       "      <td>Culicidae</td>\n",
       "      <td>Anopheles</td>\n",
       "      <td>Anopheles sinensis</td>\n",
       "    </tr>\n",
       "    <tr>\n",
       "      <th>3</th>\n",
       "      <td>19BJAW1844</td>\n",
       "      <td>k141_3_flag3_multi17.0308_len693</td>\n",
       "      <td>MG816563.1</td>\n",
       "      <td>94.670</td>\n",
       "      <td>469</td>\n",
       "      <td>0.0</td>\n",
       "      <td>728</td>\n",
       "      <td>Arthropoda</td>\n",
       "      <td>Insecta</td>\n",
       "      <td>Diptera</td>\n",
       "      <td>Culicidae</td>\n",
       "      <td>Anopheles</td>\n",
       "      <td>Anopheles sinensis</td>\n",
       "    </tr>\n",
       "  </tbody>\n",
       "</table>\n",
       "</div>"
      ],
      "text/plain": [
       "       lib_id                              contig         hit  pident  alnlen  \\\n",
       "0  19BJAW1844   k141_0_flag1_multi228.0000_len512  KX840650.1  99.609     512   \n",
       "1  19BJAW1844  k141_1_flag0_multi577.1388_len1330  MG816556.1  96.006    1252   \n",
       "2  19BJAW1844   k141_2_flag0_multi493.4021_len529  MG816556.1  98.201     389   \n",
       "3  19BJAW1844    k141_3_flag3_multi17.0308_len693  MG816563.1  94.670     469   \n",
       "\n",
       "   evalue  bitscore      phylum    class    order     family      genus  \\\n",
       "0     0.0       935  Arthropoda  Insecta  Diptera  Culicidae  Anopheles   \n",
       "1     0.0      2036  Arthropoda  Insecta  Diptera  Culicidae  Anopheles   \n",
       "2     0.0       680  Arthropoda  Insecta  Diptera  Culicidae  Anopheles   \n",
       "3     0.0       728  Arthropoda  Insecta  Diptera  Culicidae  Anopheles   \n",
       "\n",
       "              species  \n",
       "0    Anopheles pullus  \n",
       "1  Anopheles sinensis  \n",
       "2  Anopheles sinensis  \n",
       "3  Anopheles sinensis  "
      ]
     },
     "execution_count": 64,
     "metadata": {},
     "output_type": "execute_result"
    }
   ],
   "source": [
    "df[df.lib_id == ind]"
   ]
  },
  {
   "cell_type": "code",
   "execution_count": 67,
   "id": "a7108055-ccae-47be-b66a-500a103f9ac2",
   "metadata": {},
   "outputs": [
    {
     "data": {
      "text/plain": [
       "0.9413533834586466"
      ]
     },
     "execution_count": 67,
     "metadata": {},
     "output_type": "execute_result"
    }
   ],
   "source": [
    "1252/1330"
   ]
  },
  {
   "cell_type": "code",
   "execution_count": null,
   "id": "ef09575e-77ff-44ea-bde6-fff8d341188b",
   "metadata": {},
   "outputs": [],
   "source": []
  }
 ],
 "metadata": {
  "kernelspec": {
   "display_name": "bio",
   "language": "python",
   "name": "bio"
  },
  "language_info": {
   "codemirror_mode": {
    "name": "ipython",
    "version": 3
   },
   "file_extension": ".py",
   "mimetype": "text/x-python",
   "name": "python",
   "nbconvert_exporter": "python",
   "pygments_lexer": "ipython3",
   "version": "3.9.13"
  }
 },
 "nbformat": 4,
 "nbformat_minor": 5
}
